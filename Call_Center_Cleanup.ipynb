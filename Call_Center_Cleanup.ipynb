{
 "cells": [
  {
   "cell_type": "markdown",
   "id": "331a1c4f",
   "metadata": {},
   "source": [
    "# Call Center Cleanup\n",
    "\n",
    "For this assignment, we will be working with call center data. You can start working on the assignment after the first lesson on Exploratory Data Analysis with pandas. Make sure to read the whole assignment before starting anything! As you code along in the Jupyter notebook, you are asked to make note of the results of your analysis. Do so by clicking on the results box and adding your notes beside each question.\n",
    "\n",
    "## Business Issue and Understanding\n",
    "\n",
    "You are working for a company that has two call centers: the North Call Center and the South Call Center. The company is looking to possibly hire five additional reps to enhance customer experience. Your task is to explore how efficient the current reps are in each branch to determine which branch would benefit from additional assistance.\n",
    "\n",
    "### How the Call Center Works\n",
    "\n",
    "Call center representatives are assigned queues. When calls are assigned to a queue, the call is assigned to the next person in line in the queue. After a call is assigned to a representative, the amount of time between assignment and the call starting is divided into busy minutes and not ready minutes. If the call is incoming and a customer is waiting on the phone for a rep, the time is split into three categories: busy minutes, not ready minutes, and incoming call wait time. Once the rep has the customer on the phone, there might be during call wait time, where the call is put on hold while the rep gets an answer for the customer.\n",
    "\n",
    "### Notes about the Dataset\n",
    "\n",
    "If you haven't worked in a call center before, these notes might help you throughout your analysis.\n",
    "\n",
    "* The call purpose is tagged for each call.\n",
    "* The time of the call is tagged in 1 hour blocks starting at 9:00 AM and ending at 5:00 PM.\n",
    "* Calls are tagged as incoming or outgoing.\n",
    "* Reps are assigned to queues. When the reps are working, they take calls in the order of their queue.\n",
    "* A call that is dropped due to technical error or missed by the center because they have reached maximum capacity is a lost call.\n",
    "* An abandoned call is when the customer hangs up because they have been waiting for too long.\n",
    "* Busy Minutes: the amount of time after a call comes in or needs to go out where the assigned rep is not available because they are busy with other customers.\n",
    "* Not Ready Minutes: the amount of time after a call comes in or needs to go out where the assigned rep is not available because they are not ready (for example, getting water).\n",
    "* Incoming Wait Time - amount of time after assigned rep is available to take the call customer waits for representative to pick up a call. This is tracked in seconds.\n",
    "* During Call Wait Time - amount of time during call that customer has to wait for representative\n",
    "\n",
    "## Getting Started\n",
    "\n",
    "You have two CSVs at your disposal, `NorthCallCenter.csv` and `SouthCallCenter.csv`. Import the appropriate libraries and create two dataframes, one called `north_df` and one called `south_df`."
   ]
  },
  {
   "cell_type": "code",
   "execution_count": 4,
   "id": "f362436b",
   "metadata": {},
   "outputs": [
    {
     "name": "stdout",
     "output_type": "stream",
     "text": [
      "   Unnamed: 0 Branch     Call Purpose Time Block Incoming or Outgoing Queue  \\\n",
      "0           0  North        Complaint    9:00 AM             Incoming     B   \n",
      "1           1  North    Sales Support   11:00 AM             Incoming     A   \n",
      "2           2  North    Sales Support   11:00 AM             Incoming     B   \n",
      "3           3  North    Sales Support    4:00 PM             Incoming     B   \n",
      "4           4  North  Product Support   12:00 PM             Incoming     B   \n",
      "\n",
      "  Rep ID Sale  Lost Call  Abandoned  Busy Minutes  Not Ready Minutes  \\\n",
      "0  Brent   NO          0          1             9                  2   \n",
      "1    Cam   NO          0          0            11                  1   \n",
      "2   Todd   NO          0          0             9                  3   \n",
      "3  Brent   NO          0          0            11                  2   \n",
      "4  Brent   NO          0          0             8                  2   \n",
      "\n",
      "   Incoming Wait Time  During Call Wait Time  Calls  \n",
      "0                 1.0                      4      1  \n",
      "1                 1.0                      3      1  \n",
      "2                 1.0                      3      1  \n",
      "3                 1.0                      4      1  \n",
      "4                 1.0                      4      1  \n",
      "   Unnamed: 0 Branch   Call Purpose Time Block Incoming or Outgoing Queue  \\\n",
      "0           0  South  Sales Support   10:00 AM             Incoming     D   \n",
      "1           1  South  Sales Support   10:00 AM             Incoming     C   \n",
      "2           2  South  Sales Support   10:00 AM             Incoming     C   \n",
      "3           3  South  Sales Support   10:00 AM             Incoming     C   \n",
      "4           4  South  Sales Support   12:00 PM             Incoming     C   \n",
      "\n",
      "  Rep ID Sale  Lost Call  Abandoned  Busy Minutes  Not Ready Minutes  \\\n",
      "0   Kate   NO          0          0             9                  1   \n",
      "1   Eric   NO          0          0             8                  2   \n",
      "2  Susan   NO          0          0            10                  2   \n",
      "3  Alice   NO          0          0            12                  1   \n",
      "4  Sandy   NO          0          0             8                  3   \n",
      "\n",
      "   Incoming Wait Time  During Call Wait Time  Calls  \n",
      "0                 1.0                      2      1  \n",
      "1                 1.0                      4      1  \n",
      "2                 1.0                      4      1  \n",
      "3                 1.0                      3      1  \n",
      "4                 1.0                      3      1  \n"
     ]
    }
   ],
   "source": [
    "# Import the appropriate libraries with aliases\n",
    "import pandas as pd\n",
    "import numpy as np\n",
    "\n",
    "\n",
    "# Create two new dataframes\n",
    "northcallcenter_df = pd.read_csv(r'C:\\Users\\bccut\\OneDrive\\Desktop\\LaunchCode\\call-center-cleanup-assignment\\call-center-cleanup-assignment\\NorthCallCenter.csv')\n",
    "northcallcenter_df = pd.DataFrame(northcallcenter_df)\n",
    "print(northcallcenter_df.head(5))\n",
    "\n",
    "southcallcenter_df = pd.read_csv(r'C:\\Users\\bccut\\OneDrive\\Desktop\\LaunchCode\\call-center-cleanup-assignment\\call-center-cleanup-assignment\\SouthCallCenter.csv')\n",
    "southcallcenter_df = pd.DataFrame(southcallcenter_df)\n",
    "print(southcallcenter_df.head(5))\n",
    "\n"
   ]
  },
  {
   "cell_type": "markdown",
   "id": "b4d3484b",
   "metadata": {},
   "source": [
    "## Task 1: Exploratory Data Analysis\n",
    "\n",
    "Time to do some EDA! In the process of learning more about the two datasets, answer the following questions. Use the code blocks below to begin cleaning your data. At the end of the section, record your answers."
   ]
  },
  {
   "cell_type": "code",
   "execution_count": 5,
   "id": "433d87e6",
   "metadata": {},
   "outputs": [
    {
     "name": "stdout",
     "output_type": "stream",
     "text": [
      "<class 'pandas.core.frame.DataFrame'>\n",
      "RangeIndex: 245 entries, 0 to 244\n",
      "Data columns (total 15 columns):\n",
      " #   Column                 Non-Null Count  Dtype  \n",
      "---  ------                 --------------  -----  \n",
      " 0   Unnamed: 0             245 non-null    int64  \n",
      " 1   Branch                 245 non-null    object \n",
      " 2   Call Purpose           245 non-null    object \n",
      " 3   Time Block             245 non-null    object \n",
      " 4   Incoming or Outgoing   245 non-null    object \n",
      " 5   Queue                  245 non-null    object \n",
      " 6   Rep ID                 245 non-null    object \n",
      " 7   Sale                   245 non-null    object \n",
      " 8   Lost Call              245 non-null    int64  \n",
      " 9   Abandoned              245 non-null    int64  \n",
      " 10  Busy Minutes           245 non-null    int64  \n",
      " 11  Not Ready Minutes      245 non-null    int64  \n",
      " 12  Incoming Wait Time     82 non-null     float64\n",
      " 13  During Call Wait Time  245 non-null    int64  \n",
      " 14  Calls                  245 non-null    int64  \n",
      "dtypes: float64(1), int64(7), object(7)\n",
      "memory usage: 28.8+ KB\n",
      "None\n"
     ]
    }
   ],
   "source": [
    "print(northcallcenter_df.info())"
   ]
  },
  {
   "cell_type": "markdown",
   "id": "76898991",
   "metadata": {},
   "source": [
    "#### EDA Question 1A:  How many reps are in the North branch?  "
   ]
  },
  {
   "cell_type": "code",
   "execution_count": 6,
   "id": "ce3eb5e4",
   "metadata": {},
   "outputs": [
    {
     "name": "stdout",
     "output_type": "stream",
     "text": [
      "Rep ID\n",
      "Brent     37\n",
      "Lilly     30\n",
      "Todd      29\n",
      "Duke      29\n",
      "Joe       26\n",
      "Xander    24\n",
      "Cam       24\n",
      "Amanda    23\n",
      "Andy      23\n",
      "Name: count, dtype: int64\n"
     ]
    }
   ],
   "source": [
    "# EDA Question 1A solution below:\n",
    "print(northcallcenter_df.value_counts('Rep ID'))\n",
    "\n",
    "#9\n"
   ]
  },
  {
   "cell_type": "markdown",
   "id": "2a9b34d8",
   "metadata": {},
   "source": [
    "#### EDA Question 1B:  How many reps are in the South branch?  "
   ]
  },
  {
   "cell_type": "code",
   "execution_count": 100,
   "id": "3c715bbf",
   "metadata": {},
   "outputs": [
    {
     "name": "stdout",
     "output_type": "stream",
     "text": [
      "Rep ID\n",
      "Eric      35\n",
      "Randy     33\n",
      "Sandy     32\n",
      "Helga     31\n",
      "George    29\n",
      "Kate      29\n",
      "Karl      28\n",
      "Susan     26\n",
      "Josh      26\n",
      "Sharon    25\n",
      "Alice     20\n",
      "Name: count, dtype: int64\n"
     ]
    }
   ],
   "source": [
    "# EDA Question 1B solution Below:\n",
    "print(southcallcenter_df.value_counts('Rep ID'))\n",
    "\n",
    "#11"
   ]
  },
  {
   "cell_type": "markdown",
   "id": "a872f045",
   "metadata": {},
   "source": [
    "#### EDA Question 2A:  What is the average busy minutes, not ready minutes, incoming wait time, and during call wait time for the North branch? "
   ]
  },
  {
   "cell_type": "code",
   "execution_count": 8,
   "id": "3759305f",
   "metadata": {},
   "outputs": [
    {
     "name": "stdout",
     "output_type": "stream",
     "text": [
      "The average busy minutes for the north call center is 9.99 minutes\n",
      "The average not ready minutes for the north call center is 1.91 minutes\n",
      "The average incoming wait time for the north call center is 3.05 seconds\n",
      "The average during call wait time for the north call center is 2.97 minutes\n"
     ]
    }
   ],
   "source": [
    "# EDA Question 2A solution Below:\n",
    "avg_north_bm = northcallcenter_df['Busy Minutes'].mean()\n",
    "avg_north_nr = northcallcenter_df['Not Ready Minutes'].mean()\n",
    "avg_north_wt = northcallcenter_df['Incoming Wait Time'].mean()\n",
    "avg_north_dcwt = northcallcenter_df['During Call Wait Time'].mean()\n",
    "\n",
    "print('The average busy minutes for the north call center is', f'{avg_north_bm:.2f}', 'minutes')\n",
    "print('The average not ready minutes for the north call center is', f'{avg_north_nr:.2f}', 'minutes')\n",
    "print('The average incoming wait time for the north call center is', f'{avg_north_wt:.2f}', 'seconds')\n",
    "print('The average during call wait time for the north call center is', f'{avg_north_dcwt:.2f}', 'minutes')"
   ]
  },
  {
   "cell_type": "markdown",
   "id": "3851cf3e",
   "metadata": {},
   "source": [
    "#### EDA Question 2B:  What is the average busy minutes, not ready minutes, incoming wait time, and during call wait time for the South branch? "
   ]
  },
  {
   "cell_type": "code",
   "execution_count": 9,
   "id": "a77ec152",
   "metadata": {},
   "outputs": [
    {
     "name": "stdout",
     "output_type": "stream",
     "text": [
      "The average busy minutes for the south call center is 10.05 minutes\n",
      "The average not ready minutes for the south call center is 1.91 minutes\n",
      "The average incoming wait time for the south call center is 3.00 seconds\n",
      "The average during call wait time for the south call center is 3.08 minutes\n"
     ]
    }
   ],
   "source": [
    "# EDA Question 2B solution Below:\n",
    "avg_south_bm = southcallcenter_df['Busy Minutes'].mean()\n",
    "avg_south_nr = southcallcenter_df['Not Ready Minutes'].mean()\n",
    "avg_south_wt = southcallcenter_df['Incoming Wait Time'].mean()\n",
    "avg_south_dcwt = southcallcenter_df['During Call Wait Time'].mean()\n",
    "\n",
    "print('The average busy minutes for the south call center is', f'{avg_south_bm:.2f}', 'minutes')\n",
    "print('The average not ready minutes for the south call center is', f'{avg_south_nr:.2f}', 'minutes')\n",
    "print('The average incoming wait time for the south call center is', f'{avg_south_wt:.2f}', 'seconds')\n",
    "print('The average during call wait time for the south call center is', f'{avg_south_dcwt:.2f}', 'minutes')"
   ]
  },
  {
   "cell_type": "markdown",
   "id": "75915553",
   "metadata": {},
   "source": [
    "#### EDA Question 3:  What is the number of calls taken for each time block(Both North and South combined)?"
   ]
  },
  {
   "cell_type": "code",
   "execution_count": 10,
   "id": "49566936",
   "metadata": {},
   "outputs": [
    {
     "name": "stdout",
     "output_type": "stream",
     "text": [
      "Time Block\n",
      "10:00 AM     99\n",
      "11:00 AM     56\n",
      "12:00 PM    120\n",
      "1:00 PM      40\n",
      "2:00 PM      65\n",
      "3:00 PM      73\n",
      "4:00 PM      53\n",
      "5:00 PM      43\n",
      "9:00 AM      10\n",
      "dtype: int64\n"
     ]
    }
   ],
   "source": [
    "# EDA Question 3 solution Below:\n",
    "combined_df = pd.concat([northcallcenter_df, southcallcenter_df])\n",
    "#print(combined_df.head)\n",
    "calls_per_time_block = combined_df.groupby('Time Block').size()\n",
    "print(calls_per_time_block)\n",
    "\n"
   ]
  },
  {
   "cell_type": "markdown",
   "id": "40b1fd3f",
   "metadata": {},
   "source": [
    "##### Record your answers for the EDA section below:\n",
    "- 1a) Reps in the North Branch = 9\n",
    "- 1b) Reps in the South Branch = 11\n",
    "\n",
    "\n",
    "- 2a) North Branch, (round to the nearest hundredth):\n",
    "> - Busy Minutes = 9.99 minutes\n",
    "> - Not Ready Minutes = 1.91 minutes\n",
    "> - Incoming Wait Time = 3.05 seconds\n",
    "> - During Call Wait Time = 2.97 minutes\n",
    "- 2b) South Branch, (round to the nearest hundredth):\n",
    "> - Busy Minutes = 10.05 minutes\n",
    "> - Not Ready Minutes = 1.91 minutes\n",
    "> - Incoming Wait Time = 3.00 seconds\n",
    "> - During Call Wait Time = 3.08 minutes\n",
    "- 3) Total Calls taken for all branches per time block:\n",
    "> - 9:00AM   = 10\n",
    "> - 10:00AM  = 99\n",
    "> - 11:00AM  = 56\n",
    "> - 12:00PM  = 120\n",
    "> - 1:00PM   = 40\n",
    "> - 2:00PM   = 65\n",
    "> - 3:00PM   = 73\n",
    "> - 4:00PM   = 53\n",
    "> - 5:00PM   = 43\n",
    "\n"
   ]
  },
  {
   "cell_type": "markdown",
   "id": "366bfb19",
   "metadata": {},
   "source": [
    "## Task 2: Cleaning Your Data \n",
    "Now you need to clean up the datasets. When cleaning the datasets, you may find that there isn't dirty data to clean. That is okay! Some questions you need to answer about the data sets.\n",
    "* Add additional code blocks as needed to show how you came to your conclusions. Add comments in your code blocks to help others understand your thinking. "
   ]
  },
  {
   "cell_type": "markdown",
   "id": "c3564d69",
   "metadata": {},
   "source": [
    "#### Cleaning Question 1:  Is there any missing data and if yes explain what you would do with the missing data and why?"
   ]
  },
  {
   "cell_type": "code",
   "execution_count": 11,
   "id": "b77fb574",
   "metadata": {},
   "outputs": [
    {
     "name": "stdout",
     "output_type": "stream",
     "text": [
      "Unnamed: 0                 0\n",
      "Branch                     0\n",
      "Call Purpose               0\n",
      "Time Block                 0\n",
      "Incoming or Outgoing       0\n",
      "Queue                      0\n",
      "Rep ID                     0\n",
      "Sale                       0\n",
      "Lost Call                  0\n",
      "Abandoned                  0\n",
      "Busy Minutes               0\n",
      "Not Ready Minutes          0\n",
      "Incoming Wait Time       351\n",
      "During Call Wait Time      0\n",
      "Calls                      0\n",
      "dtype: int64\n"
     ]
    }
   ],
   "source": [
    "# Question 1 solution below\n",
    "\n",
    "print(combined_df.isna().sum())\n"
   ]
  },
  {
   "cell_type": "markdown",
   "id": "0dc5c568-40db-4889-b82b-64610d8058d2",
   "metadata": {},
   "source": [
    "#### Record your answer below:\n",
    "\n",
    "> Your Answer: Yes, there are null values in the 'Incoming Wait Times' column.  I would replace the null values with the average incoming wait time or replace with 0 for no wait time.  "
   ]
  },
  {
   "cell_type": "markdown",
   "id": "dc47f020",
   "metadata": {},
   "source": [
    "#### Cleaning Question 2:  In the North data set, there are two separate \"YES\" values for a sale. Why and how did you rectify the issue?"
   ]
  },
  {
   "cell_type": "code",
   "execution_count": 12,
   "id": "4e0fbad6",
   "metadata": {},
   "outputs": [
    {
     "name": "stdout",
     "output_type": "stream",
     "text": [
      "Sale\n",
      "NO      234\n",
      "YES      10\n",
      "YES       1\n",
      "Name: count, dtype: int64\n",
      "['NO' 'YES ' 'YES']\n",
      "Sale\n",
      "NO      234\n",
      "YES      11\n",
      "Name: count, dtype: int64\n"
     ]
    }
   ],
   "source": [
    "# Cleaning Question 2 solution below:\n",
    "#Gets all value counts\n",
    "print(northcallcenter_df.value_counts(['Sale']))\n",
    "\n",
    "#Gets Unique values of sales\n",
    "unique_sale = northcallcenter_df['Sale'].unique()\n",
    "\n",
    "print(unique_sale)\n",
    "\n",
    "#replaces 'YES ' with 'YES\n",
    "northcallcenter_df['Sale'] = northcallcenter_df['Sale'].replace('YES ', 'YES')\n",
    "\n",
    "print(northcallcenter_df.value_counts(['Sale']))\n",
    "\n"
   ]
  },
  {
   "cell_type": "markdown",
   "id": "cf81b612-eb6b-45a6-ac8e-d6f4e08131a8",
   "metadata": {},
   "source": [
    "##### Record your answer by below:\n",
    "> Your Answer: I found the unique values in the Sale column.  There was one column filled with a space at the end of yes = 'YES '.  This is a unique value different than 'YES'.  The incorrect answer \n",
    "was replaced."
   ]
  },
  {
   "cell_type": "markdown",
   "id": "715f375a",
   "metadata": {},
   "source": [
    "#### Cleaning Question 3:  Are there duplicates in the two data sets? If there are, how did you handle them?"
   ]
  },
  {
   "cell_type": "code",
   "execution_count": 13,
   "id": "2323673a",
   "metadata": {},
   "outputs": [
    {
     "name": "stdout",
     "output_type": "stream",
     "text": [
      "0\n"
     ]
    }
   ],
   "source": [
    "# Cleaning Question 3 solution below:\n",
    "duplicated_df = combined_df.duplicated()\n",
    "\n",
    "print(duplicated_df.sum())"
   ]
  },
  {
   "cell_type": "markdown",
   "id": "4fbfe2e8-490a-48dc-b0ca-599879076c62",
   "metadata": {},
   "source": [
    "##### Record your answer below:\n",
    "> Your Answer: There are no duplicates in the two data sets."
   ]
  },
  {
   "cell_type": "markdown",
   "id": "8ffaa865",
   "metadata": {},
   "source": [
    "#### Cleaning Question 4:  Is any of the data in the two data sets unnecessary? If yes, how did you handle it?"
   ]
  },
  {
   "cell_type": "code",
   "execution_count": 14,
   "id": "78b45e70",
   "metadata": {},
   "outputs": [],
   "source": [
    "# Cleaning Question 4 solution below:"
   ]
  },
  {
   "cell_type": "markdown",
   "id": "689e76b9-64d2-45d7-883a-b8c4d822e0c8",
   "metadata": {},
   "source": [
    "##### Record your answer below:\n",
    "\n",
    "No, there is no data that is unnecessary."
   ]
  },
  {
   "cell_type": "markdown",
   "id": "73342a9a",
   "metadata": {},
   "source": [
    "## Task 3: Data Manipulation\n",
    "Before you begin answering any questions, combine the two datasets together to create a third dataframe called df. You can use this third dataframe to compare the two call centers to company-wide trends.\n",
    "* Add additional code blocks as needed to show how you came to your conclusions. Add comments in your code blocks to help others understand your thinking. Record your answer below."
   ]
  },
  {
   "cell_type": "code",
   "execution_count": 15,
   "id": "e9705c34",
   "metadata": {},
   "outputs": [
    {
     "name": "stdout",
     "output_type": "stream",
     "text": [
      "     Unnamed: 0 Branch     Call Purpose Time Block Incoming or Outgoing Queue  \\\n",
      "309         309  South  Product Support    5:00 PM             Outgoing     D   \n",
      "310         310  South  Product Support    5:00 PM             Outgoing     C   \n",
      "311         311  South  Product Support    5:00 PM             Outgoing     C   \n",
      "312         312  South  Product Support    5:00 PM             Outgoing     C   \n",
      "313         313  South  Product Support    5:00 PM             Outgoing     D   \n",
      "\n",
      "     Rep ID Sale  Lost Call  Abandoned  Busy Minutes  Not Ready Minutes  \\\n",
      "309   Helga   NO          0          0            10                  3   \n",
      "310   Susan   NO          0          0            12                  3   \n",
      "311   Sandy   NO          0          0             9                  3   \n",
      "312    Eric   NO          0          0            10                  1   \n",
      "313  George   NO          0          0            10                  2   \n",
      "\n",
      "     Incoming Wait Time  During Call Wait Time  Calls  \n",
      "309                 NaN                      4      1  \n",
      "310                 NaN                      4      1  \n",
      "311                 NaN                      4      1  \n",
      "312                 NaN                      2      1  \n",
      "313                 NaN                      3      1  \n",
      "Index(['Unnamed: 0', 'Branch', 'Call Purpose', 'Time Block',\n",
      "       'Incoming or Outgoing', 'Queue', 'Rep ID', 'Sale', 'Lost Call',\n",
      "       'Abandoned', 'Busy Minutes', 'Not Ready Minutes', 'Incoming Wait Time',\n",
      "       'During Call Wait Time', 'Calls'],\n",
      "      dtype='object')\n"
     ]
    }
   ],
   "source": [
    "# Create dataframe for the entire company named df\n",
    "combined_df = pd.concat([northcallcenter_df, southcallcenter_df])\n",
    "df = combined_df\n",
    "\n",
    "print(df.tail(5))\n",
    "\n",
    "print(df.columns)"
   ]
  },
  {
   "cell_type": "markdown",
   "id": "7e87dfd1",
   "metadata": {},
   "source": [
    "#### Manipulation Question 1:  Group by Rep ID and sum the resulting structure. Sort by calls to determine which rep in each branch has the highest number of calls."
   ]
  },
  {
   "cell_type": "code",
   "execution_count": 16,
   "id": "3953f09a",
   "metadata": {},
   "outputs": [
    {
     "name": "stdout",
     "output_type": "stream",
     "text": [
      "  Branch Rep ID  Calls\n",
      "0  North  Brent     37\n",
      "1  South   Eric     35\n"
     ]
    }
   ],
   "source": [
    "# Manipulation Question solution below:\n",
    "#Group by 'Rep ID'\n",
    "\n",
    "group_by_id = df.groupby(['Branch', 'Rep ID'], as_index=False)['Calls'].sum()\n",
    "\n",
    "\n",
    "# sort by calls\n",
    "sorted_calls = group_by_id.sort_values(by=['Branch', 'Calls'], ascending=[True, False])\n",
    "\n",
    "\n",
    "top_reps = sorted_calls.groupby('Branch').first().reset_index()\n",
    "\n",
    "\n",
    "print(top_reps)"
   ]
  },
  {
   "cell_type": "markdown",
   "id": "7c29838c-1402-4e4b-94c9-050515d8dd18",
   "metadata": {},
   "source": [
    "##### Record your answer below\n",
    "Rep with the hightest number of calls and their total calls:\n",
    "- North Branch = Brent 37\n",
    "- South Branch = Eric 35"
   ]
  },
  {
   "cell_type": "markdown",
   "id": "809293b9",
   "metadata": {},
   "source": [
    "#### Manipulation Question 2:  The average call abandonment rate is a KPI when it comes to determining call center efficiency. As you may recall, abandoned calls are calls where the customer hangs up due to long call times. What is the average call abandonment rate for each branch and the whole company? Do any of these fall out of the optimal range of 2-5%?"
   ]
  },
  {
   "cell_type": "code",
   "execution_count": 95,
   "id": "3dff7534",
   "metadata": {},
   "outputs": [
    {
     "name": "stdout",
     "output_type": "stream",
     "text": [
      "Average Abandonment Rate by Branch:\n",
      "  Branch  abandonment_rate\n",
      "0  North              2.86\n",
      "1  South              1.27\n",
      "\n",
      "Overall Average Abandonment Rate: 1.97%\n",
      "\n",
      "Branches Out of Optimal Range (2-5%):\n",
      "  Branch  abandonment_rate\n",
      "1  South              1.27\n"
     ]
    }
   ],
   "source": [
    "# Manipulation Question 2 solution below:\n",
    "# Calculate abandonment rate for each branch\n",
    "df['abandonment_rate'] = (df['Abandoned'] / df['Calls']) * 100\n",
    "\n",
    "# Group by branch and calculate average abandonment rate\n",
    "branch_avg = df.groupby('Branch')['abandonment_rate'].mean().reset_index()\n",
    "\n",
    "# Calculate overall company average\n",
    "overall_avg = (df['Abandoned'].sum() / df['Calls'].sum()) * 100\n",
    "\n",
    "print(\"Average Abandonment Rate by Branch:\")\n",
    "print(branch_avg.round(2))\n",
    "print(f\"\\nOverall Average Abandonment Rate: {overall_avg:.2f}%\")\n",
    "\n",
    "# Check for branches outside the optimal range\n",
    "optimal_range = (2, 5)\n",
    "out_of_range = branch_avg[(branch_avg['abandonment_rate'] < optimal_range[0]) | \n",
    "                          (branch_avg['abandonment_rate'] > optimal_range[1])]\n",
    "\n",
    "print(\"\\nBranches Out of Optimal Range (2-5%):\")\n",
    "print(out_of_range.round(2))"
   ]
  },
  {
   "cell_type": "markdown",
   "id": "c284596f-218f-4291-81b6-718ea5671feb",
   "metadata": {},
   "source": [
    "##### Record your answer below:\n",
    "Average Call Abandonment Rates (round to the nearest hundredth):\n",
    "- North Branch = 2.86\n",
    "- South Branch = 1.27\n",
    "- Company Wide = 1.97\n",
    "- Do any of these fall out of the optimal range of 2-5%?  Yes, the South Region."
   ]
  },
  {
   "cell_type": "markdown",
   "id": "598bb1bf",
   "metadata": {},
   "source": [
    "#### Manipulation Question 3:  Service level is another KPI when it comes to measuring call center efficiency. Service level is the percentage of calls answered within a specific number of seconds. In the case of your employer, their ideal time frame is 2 seconds. What is the percentage of calls answered within 2 seconds for each branch and the entire company?"
   ]
  },
  {
   "cell_type": "code",
   "execution_count": 18,
   "id": "2fc8f669",
   "metadata": {},
   "outputs": [
    {
     "name": "stdout",
     "output_type": "stream",
     "text": [
      "Service Level by Branch:\n",
      "  Branch  service_level\n",
      "0  North          13.47\n",
      "1  South          15.29\n",
      "\n",
      "Overall Company Service Level: 14.49%\n"
     ]
    }
   ],
   "source": [
    "# Manipulation Question 3 solution below:\n",
    "\n",
    "# Calculate service level for each branch\n",
    "df['service_level'] = (df['Incoming Wait Time'] <= 2) / df['Calls'] * 100\n",
    "\n",
    "# Group by branch and calculate average service level\n",
    "branch_service_level = df.groupby('Branch')['service_level'].mean().reset_index()\n",
    "\n",
    "# Round the service levels to two decimal places\n",
    "branch_service_level['service_level'] = branch_service_level['service_level'].round(2)\n",
    "\n",
    "# Calculate overall company service level\n",
    "overall_service_level = (df['Incoming Wait Time'] <= 2).sum() / df['Calls'].sum() * 100\n",
    "overall_service_level = round(overall_service_level, 2)\n",
    "\n",
    "print(\"Service Level by Branch:\")\n",
    "print(branch_service_level)\n",
    "print(f\"\\nOverall Company Service Level: {overall_service_level:.2f}%\")"
   ]
  },
  {
   "cell_type": "markdown",
   "id": "e3a4c9d9-4e11-4e1f-859a-d2c919f7d9ce",
   "metadata": {},
   "source": [
    "##### Record your answer below:\n",
    "Percentage of calls answered within 2 seconds, include # of calls:\n",
    "- North Branch = 13.47%\n",
    "- South Branch = 15.29%\n",
    "- Company Wide = 14.49%"
   ]
  },
  {
   "cell_type": "markdown",
   "id": "7e19e705",
   "metadata": {},
   "source": [
    "#### Manipulation Question 4: For each branch and the entire company, what is the average speed of answer?"
   ]
  },
  {
   "cell_type": "code",
   "execution_count": 19,
   "id": "72a653ed",
   "metadata": {},
   "outputs": [
    {
     "name": "stdout",
     "output_type": "stream",
     "text": [
      "Average Speed of Answer by Branch (in seconds):\n",
      "  Branch  average_speed_of_answer\n",
      "0  North                     3.05\n",
      "1  South                     3.00\n",
      "\n",
      "Overall Company Average Speed of Answer: 1.12 seconds\n"
     ]
    }
   ],
   "source": [
    "# Manipulation Question 4 solution below:\n",
    "\n",
    "# Calculate average speed of answer for each branch\n",
    "df['average_speed_of_answer'] = df['Incoming Wait Time'] / df['Calls']\n",
    "\n",
    "# Group by branch and calculate average speed of answer\n",
    "branch_avg_asa = df.groupby('Branch')['average_speed_of_answer'].mean().reset_index()\n",
    "\n",
    "# Round the average speeds to two decimal places\n",
    "branch_avg_asa['average_speed_of_answer'] = branch_avg_asa['average_speed_of_answer'].round(2)\n",
    "\n",
    "# Calculate overall company average speed of answer\n",
    "overall_avg_asa = (df['Incoming Wait Time'].sum() / df['Calls'].sum())\n",
    "overall_avg_asa = round(overall_avg_asa, 2)\n",
    "\n",
    "print(\"Average Speed of Answer by Branch (in seconds):\")\n",
    "print(branch_avg_asa)\n",
    "print(f\"\\nOverall Company Average Speed of Answer: {overall_avg_asa:.2f} seconds\")"
   ]
  },
  {
   "cell_type": "markdown",
   "id": "fb04c65b-442b-48e1-b22c-b2af8b835ffd",
   "metadata": {},
   "source": [
    "##### Record your answer by below:\n",
    "Average speed of answer (rounded to nearest hundredth):\n",
    "- North Branch in seconds = 3.05\n",
    "- South Branch in seconds = 3.00\n",
    "- Company Wide in seconds = 1.12"
   ]
  },
  {
   "cell_type": "markdown",
   "id": "d5f50a40",
   "metadata": {},
   "source": [
    "## Task 4: Visualization\n",
    "\n",
    "Create a visualization for each of the following questions. Some of the code to handle aggregating and storing data may be written for you. For each visualization, you choose the chart style that you feel suits the situation best. Make note of the chart style you chose and why. \n",
    "\n",
    "*NOTE Some questions you may decide to use more than one chart and or chart style."
   ]
  },
  {
   "cell_type": "markdown",
   "id": "66ccf83c",
   "metadata": {},
   "source": [
    "#### Visualization 1:  What is the average abandonment rate per queue?"
   ]
  },
  {
   "cell_type": "code",
   "execution_count": 36,
   "id": "c971d779",
   "metadata": {},
   "outputs": [
    {
     "name": "stdout",
     "output_type": "stream",
     "text": [
      "Queue\n",
      "A    4.166667\n",
      "B    2.013423\n",
      "C    0.724638\n",
      "D    1.704545\n",
      "dtype: float64\n"
     ]
    },
    {
     "name": "stderr",
     "output_type": "stream",
     "text": [
      "C:\\Users\\bccut\\AppData\\Local\\Temp\\ipykernel_43368\\1065514256.py:10: FutureWarning: Series.__getitem__ treating keys as positions is deprecated. In a future version, integer keys will always be treated as labels (consistent with DataFrame behavior). To access a value by position, use `ser.iloc[pos]`\n",
      "  abandonment_rates[queues[i]] = queue_dict[\"Abandoned\"][i] / queue_dict[\"Calls\"][i]\n"
     ]
    },
    {
     "data": {
      "image/png": "[encoded data removed]",
      "text/plain": [
       "<Figure size 640x480 with 1 Axes>"
      ]
     },
     "metadata": {},
     "output_type": "display_data"
    }
   ],
   "source": [
    "# Create visualization 1 here\n",
    "# Import any additional libraries needed with alias\n",
    "import matplotlib.pyplot as plt\n",
    "import seaborn as sb\n",
    "# The dictionary abandonment_rates has the data you need.\n",
    "abandonment_rates = {}\n",
    "queues = [\"A\", \"B\", \"C\", \"D\"]\n",
    "queue_dict = df.groupby(\"Queue\").agg(\"sum\")\n",
    "for i in range(4):\n",
    "    abandonment_rates[queues[i]] = queue_dict[\"Abandoned\"][i] / queue_dict[\"Calls\"][i] \n",
    "\n",
    "queue_abandonment_rate = df[df['Abandoned'] == True].groupby('Queue').size() / df.groupby('Queue').size() * 100\n",
    "print(queue_abandonment_rate)\n",
    "\n",
    "#Your code below:\n",
    "\n",
    "queue_abandonment_rate.plot(kind='bar')\n",
    "\n",
    "plt.xlabel('Queue')\n",
    "plt.ylabel('Abandonment Rate (%)')\n",
    "plt.title('Average Call Abandonment Rate per Queue')\n",
    "plt.xticks(rotation=360)  # Rotate labels by 90 degrees\n",
    "\n",
    "plt.show()"
   ]
  },
  {
   "cell_type": "markdown",
   "id": "00a821e7-b296-4950-8889-dacf36ef37fb",
   "metadata": {},
   "source": [
    "##### Record your answer below:\n",
    "\n",
    "> Chart style you chose and why: I choose a bar chart.  This is an easy to read graph that clearly lays out the abandoment rate by queue.  "
   ]
  },
  {
   "cell_type": "markdown",
   "id": "4a9fc77f",
   "metadata": {},
   "source": [
    "#### Visualization 2: What is the service level percentage and average speed of answer for each rep in the North Branch?"
   ]
  },
  {
   "cell_type": "code",
   "execution_count": 93,
   "id": "61f65a7f",
   "metadata": {},
   "outputs": [
    {
     "data": {
      "image/png": "[encoded data removed]",
      "text/plain": [
       "<Figure size 640x480 with 2 Axes>"
      ]
     },
     "metadata": {},
     "output_type": "display_data"
    }
   ],
   "source": [
    "# Create visualization 2 here\n",
    "# north_plt contains the data you need for the average speed of answer of each rep\n",
    "\n",
    "north_plt = northcallcenter_df.groupby(\"Rep ID\")[\"Incoming Wait Time\"].mean().to_frame().reset_index()\n",
    "\n",
    "# Finding each Rep's Personal Service Level Percentage.  Basically, Calls within 2 secs / total calls\n",
    "\n",
    "# Table 1: Total Incoming calls less than 2 seconds grouped by Rep\n",
    "quick_calls = northcallcenter_df[northcallcenter_df[\"Incoming Wait Time\"] <= 2.0]\n",
    "quick_reps = quick_calls[[\"Rep ID\", \"Calls\"]]\n",
    "quick_stats = quick_reps.groupby([\"Rep ID\"]).sum()  # Final Table\n",
    "\n",
    "\n",
    "# Table 2: Total Incoming Calls Only grouped by Rep\n",
    "total_calls_in = northcallcenter_df[northcallcenter_df[\"Incoming or Outgoing\"] == \"Incoming\"]\n",
    "rep_calls = total_calls_in[[\"Rep ID\", \"Calls\"]]     \n",
    "total_stats = rep_calls.groupby([\"Rep ID\"]).sum() # Final Table  \n",
    "\n",
    "#  Table 3: Service Level Percentage created via merge\n",
    "service_level = pd.merge(quick_stats, total_stats, on=\"Rep ID\")\n",
    "\n",
    "# Create Percentage Column in Table 3\n",
    "service_level[\"Service Level %\"] = service_level[\"Calls_x\"]/service_level[\"Calls_y\"] * 100\n",
    "\n",
    "\n",
    "#Your Code Here:\n",
    "fig, ax1 = plt.subplots()\n",
    "ax2 = ax1.twinx()  # Create a second y-axis\n",
    "\n",
    "# Plot service level as a bar chart\n",
    "ax1.bar(service_level.index, service_level['Service Level %'], color='blue', label='Service Level (%)')\n",
    "\n",
    "# Plot average speed of answer as a line chart\n",
    "ax2.plot(north_plt.index, north_plt[\"Incoming Wait Time\"], color='red', label='Avg Speed of Answer (seconds)')\n",
    "\n",
    "# Set labels and title\n",
    "ax1.set_xlabel('Rep ID')\n",
    "ax1.set_ylabel('Service Level (%)')\n",
    "ax2.set_ylabel('Avg Speed of Answer (seconds)')\n",
    "plt.title('Service Level and Average Speed of Answer per Rep (North Branch)')\n",
    "\n",
    "# Show the plot\n",
    "plt.legend()\n",
    "plt.show()\n"
   ]
  },
  {
   "cell_type": "markdown",
   "id": "4d4cad4d-f9fb-4927-8a45-4b5cd17edd3a",
   "metadata": {},
   "source": [
    "##### Record your answer below:\n",
    "\n",
    "> Chart style you chose and why: The chart style I chose is a line and bar graph.  I chose this style to differeniate between the two different sets of data we are trying to see.  I chose for them to both have the same x axis as the data would be the same for each Rep Id.  Then I wanted to show each Rep's service level along the y1 axis and their avg speed along the y2 axis."
   ]
  },
  {
   "cell_type": "markdown",
   "id": "f965e41a",
   "metadata": {},
   "source": [
    "#### Visualization 3: For each type of call purpose, how many calls are outgoing vs. incoming?"
   ]
  },
  {
   "cell_type": "code",
   "execution_count": 85,
   "id": "44096730",
   "metadata": {},
   "outputs": [
    {
     "name": "stdout",
     "output_type": "stream",
     "text": [
      "Call Purpose     Incoming or Outgoing\n",
      "Complaint        Incoming                 51\n",
      "Product Support  Outgoing                228\n",
      "                 Incoming                 82\n",
      "Sales Support    Outgoing                123\n",
      "                 Incoming                 75\n",
      "Name: count, dtype: int64\n"
     ]
    },
    {
     "data": {
      "image/png": "[encoded data removed]",
      "text/plain": [
       "<Figure size 640x480 with 1 Axes>"
      ]
     },
     "metadata": {},
     "output_type": "display_data"
    }
   ],
   "source": [
    "# Create visualization 3 here:\n",
    "# The three dictionaries, complaints, sales_support, and product_support, have the information you need\n",
    "\n",
    "purpose_group = df.groupby(\"Call Purpose\")\n",
    "call_purpose = [\"Complaint\", \"Product Support\", \"Sales Support\"]\n",
    "purpose_counts = purpose_group[\"Incoming or Outgoing\"].value_counts()\n",
    "print(purpose_counts)\n",
    "\n",
    "complaints = purpose_counts[\"Complaint\"].to_dict()\n",
    "sales_support = purpose_counts[\"Sales Support\"].to_dict()\n",
    "product_support = purpose_counts[\"Product Support\"].to_dict()\n",
    "\n",
    "#Your Code Here:\n",
    "\n",
    "purpose_counts.unstack().plot(kind='bar', stacked=False)\n",
    "\n",
    "plt.xlabel('Call Purpose')\n",
    "plt.ylabel('Count')\n",
    "plt.title('Incoming vs. Outgoing Calls by Purpose')\n",
    "plt.xticks(rotation=360)\n",
    "\n",
    "plt.show()"
   ]
  },
  {
   "cell_type": "markdown",
   "id": "9198bbe4-44ef-4e21-bd40-6ace8e9f7694",
   "metadata": {},
   "source": [
    "##### Record your answer below:\n",
    "\n",
    "> Chart style you chose and why: I chose a double bar graph to show the number of incoming and outgoing calls by purpose.  This nicely shows each type of call by its purpose side by side."
   ]
  },
  {
   "cell_type": "markdown",
   "id": "ea7ed568",
   "metadata": {},
   "source": [
    "## Task 5: Summarize Your Work\n",
    "\n",
    "With what you know now about the two call centers and the entire company, answer the following questions. Note that while this is subjective, you should include relevant data to back up your opinion.\n"
   ]
  },
  {
   "cell_type": "markdown",
   "id": "d2fc3d13",
   "metadata": {},
   "source": [
    "#### Summary Question 1:  Using KPIs such as average abandonment rate, service level and average speed of answer, in your opinion, which one of the two branches is operating more efficiently? Why?\n",
    "\n",
    "##### Record your answer below:\n",
    "> Your Answer: I would say that the South Call Center is operating more efficiently.  The South Center beats the North Center in all the measurements.  The South Center has a lower abandament rate, a higher service level and a quicker average speed to answer.  \n",
    "\n"
   ]
  },
  {
   "cell_type": "markdown",
   "id": "489f28d6",
   "metadata": {},
   "source": [
    "#### Summary Question 2: Based on the number of reps in each branch and how quickly the reps are working, in your opinion, which branch would benefit from the extra help?\n",
    "\n",
    "##### Record your answer below:\n",
    "> Your Answer: I think the North Branch would benefit from the extra help.  They lag the South Branch in all KPI's.  This could be becuase they have 2 less reps working, thus causing employees to feel overworked.  This could lead to many issues and staffing turnover.  With some extra staff and training for lagging employees the North Branch could improve their numbers.  \n"
   ]
  },
  {
   "cell_type": "markdown",
   "id": "0b10a8c3",
   "metadata": {},
   "source": [
    "#### Summary Question 3: Now that you have explored the datasets, is there any data or information that you wish you had in this analysis?\n",
    "\n",
    "##### Record your answer below:\n",
    "> Your Answer: No, I think there was a good quality of data and from this data you could come up with a lot of different metrics to look into the call center branches.\n"
   ]
  },
  {
   "cell_type": "markdown",
   "id": "ce16f43d",
   "metadata": {},
   "source": [
    "## Bonus Mission\n",
    "Create a visualization that answers this question: For each call purpose, how many calls (incoming and outgoing) take place in each time block?\n",
    "##### Record your answer below:\n",
    "\n",
    "> Chart style you chose and why: "
   ]
  },
  {
   "cell_type": "code",
   "execution_count": 126,
   "id": "71b04f32",
   "metadata": {},
   "outputs": [
    {
     "data": {
      "image/png": "[encoded data removed]",
      "text/plain": [
       "<Figure size 640x480 with 1 Axes>"
      ]
     },
     "metadata": {},
     "output_type": "display_data"
    }
   ],
   "source": [
    "# Create your Bonus Mission visualization here!\n",
    "call_times = combined_df[[\"Time Block\", \"Call Purpose\", \"Incoming or Outgoing\", \"Calls\"]]\n",
    "\n",
    "\n",
    "# Use groupby to plot based on time blocks:\n",
    "\n",
    "group_data = call_times.groupby('Time Block').agg({'Calls' : 'sum'})\n",
    "\n",
    "group_data.plot(kind='bar')\n",
    "plt.xlabel('Time Block')\n",
    "plt.ylabel('Calls')\n",
    "plt.show()\n",
    "\n",
    "\n",
    "# Use groupby and get_group to select which call purpose to plot:\n",
    "\n",
    "\n",
    "\n"
   ]
  }
 ],
 "metadata": {
  "kernelspec": {
   "display_name": "Python 3 (ipykernel)",
   "language": "python",
   "name": "python3"
  },
  "language_info": {
   "codemirror_mode": {
    "name": "ipython",
    "version": 3
   },
   "file_extension": ".py",
   "mimetype": "text/x-python",
   "name": "python",
   "nbconvert_exporter": "python",
   "pygments_lexer": "ipython3",
   "version": "3.12.5"
  }
 },
 "nbformat": 4,
 "nbformat_minor": 5
}
